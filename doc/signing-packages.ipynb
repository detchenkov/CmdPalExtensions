{
 "cells": [
  {
   "cell_type": "markdown",
   "metadata": {},
   "source": [
    "# Signing packages with Azure Trusted Signing\n",
    "\n",
    "This was a bit more of a doozy than I would have liked. There's a lot of very manual setup, which isn't documented the best.\n",
    "\n"
   ]
  },
  {
   "cell_type": "markdown",
   "metadata": {},
   "source": [
    "## Notebook Setup\n",
    "\n",
    "Before running this notebook, make sure you're in the sln root:"
   ]
  },
  {
   "cell_type": "code",
   "execution_count": null,
   "metadata": {
    "dotnet_interactive": {
     "language": "pwsh"
    },
    "polyglot_notebook": {
     "kernelName": "pwsh"
    }
   },
   "outputs": [],
   "source": [
    "$gitRoot = git rev-parse --show-toplevel\n",
    "cd $gitRoot"
   ]
  },
  {
   "cell_type": "markdown",
   "metadata": {},
   "source": [
    "## Dependencies\n",
    "\n",
    "We need both a PowerShell module for using `signtool`, and also the `az` CLI for auth"
   ]
  },
  {
   "cell_type": "code",
   "execution_count": null,
   "metadata": {
    "dotnet_interactive": {
     "language": "pwsh"
    },
    "polyglot_notebook": {
     "kernelName": "pwsh"
    }
   },
   "outputs": [],
   "source": [
    "Install-Module -Name TrustedSigning"
   ]
  },
  {
   "cell_type": "markdown",
   "metadata": {},
   "source": [
    "Install azcli with winget, then restart the connection to refresh the path"
   ]
  },
  {
   "cell_type": "code",
   "execution_count": null,
   "metadata": {
    "dotnet_interactive": {
     "language": "pwsh"
    },
    "polyglot_notebook": {
     "kernelName": "pwsh"
    }
   },
   "outputs": [],
   "source": [
    "winget install --id Microsoft.AzureCLI"
   ]
  },
  {
   "cell_type": "markdown",
   "metadata": {},
   "source": [
    "### Azure setup\n",
    "\n",
    "In addition to those tools, you also need to do a bunch of setup on the Azure portal itself.\n",
    "\n",
    "This link is actually a good place to start: [Quickstart: Set up Trusted Signing](https://learn.microsoft.com/en-us/azure/trusted-signing/quickstart?tabs=registerrp-portal%2Caccount-portal%2Corgvalidation%2Ccertificateprofile-portal%2Cdeleteresources-portal)\n",
    "\n",
    "One thing that's critical, which I'm not sure is listed here: \n",
    "**You need to make sure to grant the following roles to someone**:\n",
    "* Trusted Signing Identity Verifier\n",
    "  * This is to be able to create a trusted signing identity\n",
    "* Trusted Signing Certificate Profile Signer\n",
    "  * This is to actually sign code with the cert profile you created\n",
    "\n",
    "This is also probably the thing I did the most wrong. I'm sure you're not supposed to just grant that access to the one user you have, but the stakes are incredibly low for this test repo."
   ]
  },
  {
   "cell_type": "markdown",
   "metadata": {},
   "source": [
    "## Signing\n",
    "\n",
    "Now that you've got all your deps installed, and you've got Azure an Trusted Certificate Account & Certificate Profile setup, you're ready to build some packages and sign them"
   ]
  },
  {
   "cell_type": "markdown",
   "metadata": {},
   "source": [
    "### Build the packages\n",
    "\n",
    "The simplest way I've found to build all the x64 packages is with the following dotnet command:"
   ]
  },
  {
   "cell_type": "code",
   "execution_count": null,
   "metadata": {
    "dotnet_interactive": {
     "language": "pwsh"
    },
    "polyglot_notebook": {
     "kernelName": "pwsh"
    }
   },
   "outputs": [],
   "source": [
    "$gitRoot = git rev-parse --show-toplevel\n",
    "cd $gitRoot\n",
    "\n",
    "dotnet build --configuration Release --no-restore -p Platform=x64 .\\Extensions.sln"
   ]
  },
  {
   "cell_type": "markdown",
   "metadata": {},
   "source": [
    "### Collect up the packages\n",
    "\n",
    "Now, we're gonna stick all the packages into a single folder, for ease of signing."
   ]
  },
  {
   "cell_type": "code",
   "execution_count": null,
   "metadata": {
    "dotnet_interactive": {
     "language": "pwsh"
    },
    "polyglot_notebook": {
     "kernelName": "pwsh"
    }
   },
   "outputs": [],
   "source": [
    "$gitRoot = git rev-parse --show-toplevel\n",
    "cd $gitRoot\n",
    "\n",
    ".\\src\\tools\\Find-Msixs.ps1"
   ]
  },
  {
   "cell_type": "markdown",
   "metadata": {},
   "source": [
    "### Logging in with az cli\n"
   ]
  },
  {
   "cell_type": "markdown",
   "metadata": {},
   "source": [
    "Then, login with the following command. The first time I ran this, I had to manually select \"Default directory\" as the tenant. `az login` will print the tenant id, and loging with `az login --tenant TENANT_ID` instead"
   ]
  },
  {
   "cell_type": "code",
   "execution_count": null,
   "metadata": {
    "dotnet_interactive": {
     "language": "pwsh"
    },
    "polyglot_notebook": {
     "kernelName": "pwsh"
    }
   },
   "outputs": [],
   "source": [
    "az login"
   ]
  },
  {
   "cell_type": "markdown",
   "metadata": {},
   "source": [
    "(I also need to manually select subscription 3, \"Visual Studio Enterprise with MSDN\")"
   ]
  },
  {
   "cell_type": "markdown",
   "metadata": {},
   "source": [
    "## Actually doing the signing\n",
    "\n",
    "Now that you're all signed in, and youve built the packages, and you've got them binplaced into `x64/tmp`, run the following:"
   ]
  },
  {
   "cell_type": "code",
   "execution_count": null,
   "metadata": {
    "dotnet_interactive": {
     "language": "pwsh"
    },
    "polyglot_notebook": {
     "kernelName": "pwsh"
    }
   },
   "outputs": [],
   "source": [
    "$gitRoot = git rev-parse --show-toplevel\n",
    "cd $gitRoot\n",
    "\n",
    ".\\src\\tools\\Sign-Msixs.ps1"
   ]
  }
 ],
 "metadata": {
  "kernelspec": {
   "display_name": ".NET (PowerShell)",
   "language": "PowerShell",
   "name": ".net-pwsh"
  },
  "polyglot_notebook": {
   "kernelInfo": {
    "defaultKernelName": "pwsh",
    "items": [
     {
      "aliases": [],
      "languageName": "pwsh",
      "name": "pwsh"
     }
    ]
   }
  }
 },
 "nbformat": 4,
 "nbformat_minor": 2
}
