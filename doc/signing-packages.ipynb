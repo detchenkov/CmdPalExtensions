{
 "cells": [
  {
   "cell_type": "markdown",
   "metadata": {},
   "source": [
    "# Signing packages with Azure Trusted Signing\n",
    "\n",
    "This was a bit more of a doozy than I would have liked. There's a lot of very manual setup, which isn't documented the best.\n",
    "\n"
   ]
  },
  {
   "cell_type": "markdown",
   "metadata": {},
   "source": [
    "## Notebook Setup\n",
    "\n",
    "Before running this notebook, make sure you're in the sln root:"
   ]
  },
  {
   "cell_type": "code",
   "execution_count": null,
   "metadata": {
    "dotnet_interactive": {
     "language": "pwsh"
    },
    "polyglot_notebook": {
     "kernelName": "pwsh"
    }
   },
   "outputs": [],
   "source": [
    "$gitRoot = git rev-parse --show-toplevel\n",
    "cd $gitRoot"
   ]
  },
  {
   "cell_type": "markdown",
   "metadata": {},
   "source": [
    "## Dependencies\n",
    "\n",
    "We need both a PowerShell module for using `signtool`, and also the `az` CLI for auth"
   ]
  },
  {
   "cell_type": "code",
   "execution_count": null,
   "metadata": {
    "dotnet_interactive": {
     "language": "pwsh"
    },
    "polyglot_notebook": {
     "kernelName": "pwsh"
    }
   },
   "outputs": [],
   "source": [
    "Install-Module -Name TrustedSigning"
   ]
  },
  {
   "cell_type": "markdown",
   "metadata": {},
   "source": [
    "Install azcli with winget, then restart the connection to refresh the path"
   ]
  },
  {
   "cell_type": "code",
   "execution_count": null,
   "metadata": {
    "dotnet_interactive": {
     "language": "pwsh"
    },
    "polyglot_notebook": {
     "kernelName": "pwsh"
    }
   },
   "outputs": [],
   "source": [
    "winget install --id Microsoft.AzureCLI"
   ]
  },
  {
   "cell_type": "markdown",
   "metadata": {},
   "source": [
    "### Azure setup\n",
    "\n",
    "In addition to those tools, you also need to do a bunch of setup on the Azure portal itself.\n",
    "\n",
    "This link is actually a good place to start: [Quickstart: Set up Trusted Signing](https://learn.microsoft.com/en-us/azure/trusted-signing/quickstart?tabs=registerrp-portal%2Caccount-portal%2Corgvalidation%2Ccertificateprofile-portal%2Cdeleteresources-portal)\n",
    "\n",
    "One thing that's critical, which I'm not sure is listed here: \n",
    "**You need to make sure to grant the following roles to someone**:\n",
    "* Trusted Signing Identity Verifier\n",
    "  * This is to be able to create a trusted signing identity\n",
    "* Trusted Signing Certificate Profile Signer\n",
    "  * This is to actually sign code with the cert profile you created\n",
    "\n",
    "This is also probably the thing I did the most wrong. I'm sure you're not supposed to just grant that access to the one user you have, but the stakes are incredibly low for this test repo."
   ]
  },
  {
   "cell_type": "markdown",
   "metadata": {},
   "source": [
    "## Signing\n",
    "\n",
    "Now that you've got all your deps installed, and you've got Azure an Trusted Certificate Account & Certificate Profile setup, you're ready to build some packages and sign them"
   ]
  },
  {
   "cell_type": "markdown",
   "metadata": {},
   "source": [
    "### Build the packages\n",
    "\n",
    "The simplest way I've found to build all the x64 packages is with the following dotnet command:"
   ]
  },
  {
   "cell_type": "code",
   "execution_count": null,
   "metadata": {
    "dotnet_interactive": {
     "language": "pwsh"
    },
    "polyglot_notebook": {
     "kernelName": "pwsh"
    }
   },
   "outputs": [],
   "source": [
    "$gitRoot = git rev-parse --show-toplevel\n",
    "cd $gitRoot\n",
    "\n",
    "dotnet build --configuration Release --no-restore -p Platform=x64 .\\Extensions.sln"
   ]
  },
  {
   "cell_type": "markdown",
   "metadata": {},
   "source": [
    "### Collect up the packages\n",
    "\n",
    "Now, we're gonna stick all the packages into a single folder, for ease of signing."
   ]
  },
  {
   "cell_type": "code",
   "execution_count": null,
   "metadata": {
    "dotnet_interactive": {
     "language": "pwsh"
    },
    "polyglot_notebook": {
     "kernelName": "pwsh"
    }
   },
   "outputs": [],
   "source": [
    "$gitRoot = git rev-parse --show-toplevel\n",
    "cd $gitRoot\n",
    "\n",
    ".\\src\\tools\\Find-Msixs.ps1"
   ]
  },
  {
   "cell_type": "markdown",
   "metadata": {},
   "source": [
    "### Logging in with az cli\n"
   ]
  },
  {
   "cell_type": "markdown",
   "metadata": {},
   "source": [
    "Then, login with the following command. The first time I ran this, I had to manually select \"Default directory\" as the tenant. `az login` will print the tenant id, and loging with `az login --tenant TENANT_ID` instead"
   ]
  },
  {
   "cell_type": "code",
   "execution_count": null,
   "metadata": {
    "dotnet_interactive": {
     "language": "pwsh"
    },
    "polyglot_notebook": {
     "kernelName": "pwsh"
    }
   },
   "outputs": [],
   "source": [
    "az login"
   ]
  },
  {
   "cell_type": "markdown",
   "metadata": {},
   "source": [
    "(I also need to manually select subscription 3, \"Visual Studio Enterprise with MSDN\")"
   ]
  },
  {
   "cell_type": "markdown",
   "metadata": {},
   "source": [
    "## Actually doing the signing\n",
    "\n",
    "Now that you're all signed in, and youve built the packages, and you've got them binplaced into `x64/tmp`, run the following:"
   ]
  },
  {
   "cell_type": "code",
   "execution_count": null,
   "metadata": {
    "dotnet_interactive": {
     "language": "pwsh"
    },
    "polyglot_notebook": {
     "kernelName": "pwsh"
    }
   },
   "outputs": [],
   "source": [
    "$gitRoot = git rev-parse --show-toplevel\n",
    "cd $gitRoot\n",
    "\n",
    ".\\src\\tools\\Sign-Msixs.ps1"
   ]
  },
  {
   "cell_type": "markdown",
   "metadata": {},
   "source": [
    "## Uploading to WinGet\n",
    "\n",
    "Now that youve got signed packages, it's time to share them with the world.\n",
    "\n",
    "To do that, \n",
    "\n",
    "1. draft up a new release on GitHub, and send that. \n",
    "   - For the sake of this repo, use `<extension>/<version>` for the tags. \n",
    "   - I'll probably start enforcing PRs now\n",
    "2. Then you'll need to create the package on winget. To do this, head on over to the `winget-pkgs` repo. If you haven't already forked it and cloned that locally, do that. Otherwise `git fetch origin` and `git checkout origin/main`.\n",
    "3. Depending on if this is a new package or not:\n",
    "   - If it's a new package, you'll need to run `wingetcreate new`\n",
    "     - Paste in the path to the `.msix` on the release you made on GitHub\n",
    "     - It'll prompt you for all the fields you need to fill out.\n",
    "     - I strongly urge you not name the package `{PluralThings}Extension`. Try instead `{PluralThings}ForCmdPal`.\n",
    "     - **DON'T** auto-submit it. You need to make two edits before you submit:\n",
    "       - Add a dependency to WindowsAppSDK to the `installer.yaml` manifest:\n",
    "         ```yaml\n",
    "            Dependencies:\n",
    "            PackageDependencies:\n",
    "            - PackageIdentifier: Microsoft.WindowsAppRuntime.1.6\n",
    "         ```\n",
    "       - Add the `windows-commandpalette-extension` tag to each `locale` file:\n",
    "         ```yaml\n",
    "            Tags:\n",
    "            - windows-commandpalette-extension\n",
    "         ```\n",
    "     - Then run `wingetcreate submit {path to manifest}`\n",
    "   - If it's an existing package\n",
    "     - Run `wingetcreate update --urls {path to msix} --version {version} {packageId}`\n",
    "       - as an example: `wingetcreate update --urls https://github.com/zadjii/CmdPalExtensions/releases/download/hackernews%2Fv0.0.5/HackerNewsExtension_0.0.5.0_x64.msix --version 0.0.5 zadjii.HackerNewsforCommandPalette`\n",
    "     - Then run `wingetcreate submit {path to manifest}`\n",
    "       - as example: `wingetcreate submit .\\manifests\\z\\zadjii\\HackerNewsforCommandPalette\\0.0.5\\`\n"
   ]
  }
 ],
 "metadata": {
  "kernelspec": {
   "display_name": ".NET (PowerShell)",
   "language": "PowerShell",
   "name": ".net-pwsh"
  },
  "polyglot_notebook": {
   "kernelInfo": {
    "defaultKernelName": "pwsh",
    "items": [
     {
      "aliases": [],
      "languageName": "pwsh",
      "name": "pwsh"
     }
    ]
   }
  }
 },
 "nbformat": 4,
 "nbformat_minor": 2
}
